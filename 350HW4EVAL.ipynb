{
  "nbformat": 4,
  "nbformat_minor": 0,
  "metadata": {
    "colab": {
      "provenance": []
    },
    "kernelspec": {
      "name": "python3",
      "display_name": "Python 3"
    },
    "language_info": {
      "name": "python"
    }
  },
  "cells": [
    {
      "cell_type": "markdown",
      "source": [
        "**Part A:**\n",
        "From terminal, I ran 'nproc' which returned 10. Then I ran 'cat /proc/cpuinfo', as recommended on Piazza. This showed me that I actually have 11 total processers because the 10 returned by nproc was accounting for the first processer being the 0th one. Given the formula w + 2, with w being the number of worker threads and 2 of them are reserved for the client/parent threads:\n",
        "\n",
        "11 = w + 2,\n",
        "w = 9\n",
        "\n",
        "So the max number of worker threads w that I can utilize is 9."
      ],
      "metadata": {
        "id": "2zPGM6uJE7Pt"
      }
    },
    {
      "cell_type": "code",
      "execution_count": 2,
      "metadata": {
        "colab": {
          "base_uri": "https://localhost:8080/",
          "height": 145
        },
        "id": "qCC-edhmE3Sn",
        "outputId": "f74736d8-6d5c-4503-ba4e-f0754d64f3cf"
      },
      "outputs": [
        {
          "output_type": "display_data",
          "data": {
            "text/plain": [
              "<IPython.core.display.HTML object>"
            ],
            "text/html": [
              "\n",
              "     <input type=\"file\" id=\"files-0c9031e9-bb95-4a32-9b0c-e6c6bf9d0e55\" name=\"files[]\" multiple disabled\n",
              "        style=\"border:none\" />\n",
              "     <output id=\"result-0c9031e9-bb95-4a32-9b0c-e6c6bf9d0e55\">\n",
              "      Upload widget is only available when the cell has been executed in the\n",
              "      current browser session. Please rerun this cell to enable.\n",
              "      </output>\n",
              "      <script>// Copyright 2017 Google LLC\n",
              "//\n",
              "// Licensed under the Apache License, Version 2.0 (the \"License\");\n",
              "// you may not use this file except in compliance with the License.\n",
              "// You may obtain a copy of the License at\n",
              "//\n",
              "//      http://www.apache.org/licenses/LICENSE-2.0\n",
              "//\n",
              "// Unless required by applicable law or agreed to in writing, software\n",
              "// distributed under the License is distributed on an \"AS IS\" BASIS,\n",
              "// WITHOUT WARRANTIES OR CONDITIONS OF ANY KIND, either express or implied.\n",
              "// See the License for the specific language governing permissions and\n",
              "// limitations under the License.\n",
              "\n",
              "/**\n",
              " * @fileoverview Helpers for google.colab Python module.\n",
              " */\n",
              "(function(scope) {\n",
              "function span(text, styleAttributes = {}) {\n",
              "  const element = document.createElement('span');\n",
              "  element.textContent = text;\n",
              "  for (const key of Object.keys(styleAttributes)) {\n",
              "    element.style[key] = styleAttributes[key];\n",
              "  }\n",
              "  return element;\n",
              "}\n",
              "\n",
              "// Max number of bytes which will be uploaded at a time.\n",
              "const MAX_PAYLOAD_SIZE = 100 * 1024;\n",
              "\n",
              "function _uploadFiles(inputId, outputId) {\n",
              "  const steps = uploadFilesStep(inputId, outputId);\n",
              "  const outputElement = document.getElementById(outputId);\n",
              "  // Cache steps on the outputElement to make it available for the next call\n",
              "  // to uploadFilesContinue from Python.\n",
              "  outputElement.steps = steps;\n",
              "\n",
              "  return _uploadFilesContinue(outputId);\n",
              "}\n",
              "\n",
              "// This is roughly an async generator (not supported in the browser yet),\n",
              "// where there are multiple asynchronous steps and the Python side is going\n",
              "// to poll for completion of each step.\n",
              "// This uses a Promise to block the python side on completion of each step,\n",
              "// then passes the result of the previous step as the input to the next step.\n",
              "function _uploadFilesContinue(outputId) {\n",
              "  const outputElement = document.getElementById(outputId);\n",
              "  const steps = outputElement.steps;\n",
              "\n",
              "  const next = steps.next(outputElement.lastPromiseValue);\n",
              "  return Promise.resolve(next.value.promise).then((value) => {\n",
              "    // Cache the last promise value to make it available to the next\n",
              "    // step of the generator.\n",
              "    outputElement.lastPromiseValue = value;\n",
              "    return next.value.response;\n",
              "  });\n",
              "}\n",
              "\n",
              "/**\n",
              " * Generator function which is called between each async step of the upload\n",
              " * process.\n",
              " * @param {string} inputId Element ID of the input file picker element.\n",
              " * @param {string} outputId Element ID of the output display.\n",
              " * @return {!Iterable<!Object>} Iterable of next steps.\n",
              " */\n",
              "function* uploadFilesStep(inputId, outputId) {\n",
              "  const inputElement = document.getElementById(inputId);\n",
              "  inputElement.disabled = false;\n",
              "\n",
              "  const outputElement = document.getElementById(outputId);\n",
              "  outputElement.innerHTML = '';\n",
              "\n",
              "  const pickedPromise = new Promise((resolve) => {\n",
              "    inputElement.addEventListener('change', (e) => {\n",
              "      resolve(e.target.files);\n",
              "    });\n",
              "  });\n",
              "\n",
              "  const cancel = document.createElement('button');\n",
              "  inputElement.parentElement.appendChild(cancel);\n",
              "  cancel.textContent = 'Cancel upload';\n",
              "  const cancelPromise = new Promise((resolve) => {\n",
              "    cancel.onclick = () => {\n",
              "      resolve(null);\n",
              "    };\n",
              "  });\n",
              "\n",
              "  // Wait for the user to pick the files.\n",
              "  const files = yield {\n",
              "    promise: Promise.race([pickedPromise, cancelPromise]),\n",
              "    response: {\n",
              "      action: 'starting',\n",
              "    }\n",
              "  };\n",
              "\n",
              "  cancel.remove();\n",
              "\n",
              "  // Disable the input element since further picks are not allowed.\n",
              "  inputElement.disabled = true;\n",
              "\n",
              "  if (!files) {\n",
              "    return {\n",
              "      response: {\n",
              "        action: 'complete',\n",
              "      }\n",
              "    };\n",
              "  }\n",
              "\n",
              "  for (const file of files) {\n",
              "    const li = document.createElement('li');\n",
              "    li.append(span(file.name, {fontWeight: 'bold'}));\n",
              "    li.append(span(\n",
              "        `(${file.type || 'n/a'}) - ${file.size} bytes, ` +\n",
              "        `last modified: ${\n",
              "            file.lastModifiedDate ? file.lastModifiedDate.toLocaleDateString() :\n",
              "                                    'n/a'} - `));\n",
              "    const percent = span('0% done');\n",
              "    li.appendChild(percent);\n",
              "\n",
              "    outputElement.appendChild(li);\n",
              "\n",
              "    const fileDataPromise = new Promise((resolve) => {\n",
              "      const reader = new FileReader();\n",
              "      reader.onload = (e) => {\n",
              "        resolve(e.target.result);\n",
              "      };\n",
              "      reader.readAsArrayBuffer(file);\n",
              "    });\n",
              "    // Wait for the data to be ready.\n",
              "    let fileData = yield {\n",
              "      promise: fileDataPromise,\n",
              "      response: {\n",
              "        action: 'continue',\n",
              "      }\n",
              "    };\n",
              "\n",
              "    // Use a chunked sending to avoid message size limits. See b/62115660.\n",
              "    let position = 0;\n",
              "    do {\n",
              "      const length = Math.min(fileData.byteLength - position, MAX_PAYLOAD_SIZE);\n",
              "      const chunk = new Uint8Array(fileData, position, length);\n",
              "      position += length;\n",
              "\n",
              "      const base64 = btoa(String.fromCharCode.apply(null, chunk));\n",
              "      yield {\n",
              "        response: {\n",
              "          action: 'append',\n",
              "          file: file.name,\n",
              "          data: base64,\n",
              "        },\n",
              "      };\n",
              "\n",
              "      let percentDone = fileData.byteLength === 0 ?\n",
              "          100 :\n",
              "          Math.round((position / fileData.byteLength) * 100);\n",
              "      percent.textContent = `${percentDone}% done`;\n",
              "\n",
              "    } while (position < fileData.byteLength);\n",
              "  }\n",
              "\n",
              "  // All done.\n",
              "  yield {\n",
              "    response: {\n",
              "      action: 'complete',\n",
              "    }\n",
              "  };\n",
              "}\n",
              "\n",
              "scope.google = scope.google || {};\n",
              "scope.google.colab = scope.google.colab || {};\n",
              "scope.google.colab._files = {\n",
              "  _uploadFiles,\n",
              "  _uploadFilesContinue,\n",
              "};\n",
              "})(self);\n",
              "</script> "
            ]
          },
          "metadata": {}
        },
        {
          "output_type": "stream",
          "name": "stdout",
          "text": [
            "Saving server_outputPartD1.txt to server_outputPartD1.txt\n",
            "Saving server_outputPartD2.txt to server_outputPartD2.txt\n",
            "User uploaded file \"server_outputPartD1.txt\" with length 101278 bytes\n",
            "User uploaded file \"server_outputPartD2.txt\" with length 102625 bytes\n"
          ]
        }
      ],
      "source": [
        "from google.colab import files\n",
        "\n",
        "uploaded = files.upload()\n",
        "\n",
        "for filename in uploaded.keys():\n",
        "    print('User uploaded file \"{name}\" with length {length} bytes'.format(name=filename, length=len(uploaded[filename])))\n"
      ]
    },
    {
      "cell_type": "markdown",
      "source": [
        "**Part B:**\n",
        "With the code below I was able to calculate the following:\n",
        "Utilization of T0: 0.05226861322081577\n",
        "Utilization of T1: 0.046908640050697045\n",
        "\n",
        "With this data, we can conclude that the load is pretty well balanced between the two.\n",
        "\n",
        "\n"
      ],
      "metadata": {
        "id": "wk5ZSpYkLUN1"
      }
    },
    {
      "cell_type": "code",
      "source": [
        "# OPen server output\n",
        "with open('server_outputPartB.txt', 'r') as file:\n",
        "    lines = file.readlines()\n",
        "\n",
        "# Dictionaries to store the data for T0 and T1\n",
        "data_T0 = []\n",
        "data_T1 = []\n",
        "\n",
        "# Split data into respective lists based on the thread\n",
        "for line in lines:\n",
        "    if line.startswith(\"T0\"):\n",
        "        data_T0.append(line)\n",
        "    elif line.startswith(\"T1\"):\n",
        "        data_T1.append(line)\n",
        "\n",
        "# Function to calculate utilization\n",
        "def calculate_utilization(data):\n",
        "    total_utilization = 0\n",
        "    for line in data:\n",
        "        parts = line.split(\",\")\n",
        "        # Assuming the 2nd value in the split is the utilization time\n",
        "        utilization_time = float(parts[1])\n",
        "        total_utilization += utilization_time\n",
        "    average_utilization = total_utilization / len(data)\n",
        "    return average_utilization\n",
        "\n",
        "# Calculate utilization for each thread\n",
        "utilization_T0 = calculate_utilization(data_T0)\n",
        "utilization_T1 = calculate_utilization(data_T1)\n",
        "\n",
        "print(f\"Utilization of T0: {utilization_T0}\")\n",
        "print(f\"Utilization of T1: {utilization_T1}\")\n",
        "\n",
        "if abs(utilization_T0 - utilization_T1) < 0.01:\n",
        "    print(\"The load seems balanced between the two threads.\")\n",
        "else:\n",
        "    print(\"The load doesn't seem balanced between the two threads.\")\n"
      ],
      "metadata": {
        "colab": {
          "base_uri": "https://localhost:8080/"
        },
        "id": "pF6cDc3zK1cE",
        "outputId": "45a47337-54e7-4322-f555-1e3b6621767e"
      },
      "execution_count": 3,
      "outputs": [
        {
          "output_type": "stream",
          "name": "stdout",
          "text": [
            "Utilization of T0: 0.05226861322081577\n",
            "Utilization of T1: 0.046908640050697045\n",
            "The load seems balanced between the two threads.\n"
          ]
        }
      ]
    },
    {
      "cell_type": "markdown",
      "source": [
        "**Part C:**\n",
        "\"Is the improvement in response time linear or super-linear as the number of threads increases?\"\n",
        "\n",
        "With the plot I generated:\n",
        "\n",
        "From 2 to 4 threads, the response time decreases significantly.\n",
        "From 4 to 6 threads, the response time remains fairly constant, with only a minor decrease.\n",
        "From 6 to 8 threads, the response time again remains quite stable, showing a very minor decrease.\n",
        "\n",
        "The drastic decrease from 2 to 4 threads may hint towards a super-linear improvement initially. However, as the number of threads continues to increase (from 4 to 8), the improvement in response time plateaus, only showing minor changes. This behavior is not characteristic of either linear or super-linear improvement in this range.\n",
        "So the improvement in response time as the number of threads increases isn't purely linear nor purely super-linear. The response time sees a potential super-linear improvement when moving from 2 to 4 threads but then plateaus going forward."
      ],
      "metadata": {
        "id": "lzjs3oOXMhGb"
      }
    },
    {
      "cell_type": "code",
      "source": [
        "import matplotlib.pyplot as plt\n",
        "\n",
        "def extract_response_times(file_path):\n",
        "    \"\"\"\n",
        "    Extract response times from the server output file.\n",
        "    \"\"\"\n",
        "    response_times = []\n",
        "\n",
        "    with open(file_path, 'r') as file:\n",
        "        lines = file.readlines()\n",
        "        for line in lines:\n",
        "            # Checking if the line starts with a thread identifier like T0, T1, ...\n",
        "            if line.startswith(\"T\"):\n",
        "                parts = line.split(\",\")\n",
        "                sent_time = float(parts[0].split(\":\")[-1])  # Extracting the sent time after the colon\n",
        "                completion_time = float(parts[-1])  # Last value in the split is the completion time\n",
        "                response_time = completion_time - sent_time\n",
        "                response_times.append(response_time)\n",
        "\n",
        "    return response_times\n",
        "\n",
        "\n",
        "def calculate_average_response_time(response_times):\n",
        "    \"\"\"\n",
        "    Calculate the average of a list of response times.\n",
        "    \"\"\"\n",
        "    return sum(response_times) / len(response_times)\n",
        "\n",
        "# Paths to the server output files (corrected file names)\n",
        "files = [\n",
        "    \"server_outputPartB.txt\",\n",
        "    \"server_outputPartC4.txt\",\n",
        "    \"server_outputPartC6.txt\",\n",
        "    \"server_outputPartC8.txt\"\n",
        "]\n",
        "\n",
        "# Lists to store results\n",
        "worker_counts = [2, 4, 6, 8]\n",
        "avg_response_times = []\n",
        "\n",
        "# Extracting data from each file and calculating average response time\n",
        "for file in files:\n",
        "    response_times = extract_response_times(file)\n",
        "    avg_response_time = calculate_average_response_time(response_times)\n",
        "    avg_response_times.append(avg_response_time)\n",
        "\n",
        "# Plotting the results\n",
        "plt.plot(worker_counts, avg_response_times, marker='o')\n",
        "plt.title('Average Response Time vs Number of Threads')\n",
        "plt.xlabel('Number of Threads (-w parameter)')\n",
        "plt.ylabel('Average Response Time')\n",
        "plt.xticks(worker_counts)\n",
        "plt.grid(True)\n",
        "plt.show()\n"
      ],
      "metadata": {
        "colab": {
          "base_uri": "https://localhost:8080/",
          "height": 472
        },
        "id": "JgzidFe5MN9l",
        "outputId": "35e3fe89-41e2-42e3-ebdb-69bc0888b26c"
      },
      "execution_count": 3,
      "outputs": [
        {
          "output_type": "display_data",
          "data": {
            "text/plain": [
              "<Figure size 640x480 with 1 Axes>"
            ],
            "image/png": "[encoded data removed]"
          },
          "metadata": {}
        }
      ]
    },
    {
      "cell_type": "markdown",
      "source": [
        "**Part D:**\n",
        "As seen in the plot generated below, The rejection results of both './server_multi -w 1 -q 10', and './server_multi -w 2 -q 10' have been plotted.\n",
        "\n",
        "Given that X is the rejection rate with 1 worker, the question asks if X/W is the rejection rate with W workers. For 1 worker (W = 1): X/W = 0.03/1 = 0.03. This is accurate as it lines up with my plot. Then, for 2 workers (W=2):\n",
        "X/W = 0.03/2 = 0.015\n",
        "\n",
        "The results indicated that the rejection ratio with 2 workers was 0.00, which doesn't match with 0.015.\n",
        "\n",
        "So based on the provided results:\n",
        "The statement \"if X is the rejection rate with 1 worker, then X/W is the rejection rate with W workers\" is not true.\n",
        "\n",
        "Motivation:\n",
        "I guess the idea behind the statement is that as the number of workers goes up, each worker will handle a portion of the load, reducing the rejection rate proportionally. In a perfect scenario the rejection rate would decrease linearly with the increase in the number of workers. But the real world is not made up of perfect scenarios so the actual results, as seen here, can deviate from this model. In the experiment we were supposed to do it seems that adding one more worker was able to handle all requests without any rejections. It shows that doubling the workers doesn't just halve the rejection rate. In this case it eliminated rejections entirely.\n",
        "\n",
        "\n",
        "\n",
        "\n",
        "\n"
      ],
      "metadata": {
        "id": "oDJOT7Ehe3af"
      }
    },
    {
      "cell_type": "code",
      "source": [
        "import matplotlib.pyplot as plt\n",
        "\n",
        "def parse_file(file_path):\n",
        "    with open(file_path, \"r\") as file:\n",
        "        lines = file.readlines()\n",
        "\n",
        "    # Count total requests and rejections\n",
        "    total_requests = len([line for line in lines if line.startswith(('T', 'X'))])\n",
        "    rejections = len([line for line in lines if line.startswith('X')])\n",
        "\n",
        "    rejection_times = [float(line.split(':')[1].split(',')[0]) for line in lines if line.startswith('X')]\n",
        "    inter_rejection_times = [rejection_times[i+1] - rejection_times[i] for i in range(len(rejection_times)-1)]\n",
        "\n",
        "    return total_requests, rejections, inter_rejection_times\n",
        "\n",
        "# Parse both files\n",
        "total_requests_1, rejections_1, inter_rejection_times_1 = parse_file(\"server_outputPartD1.txt\")\n",
        "total_requests_2, rejections_2, inter_rejection_times_2 = parse_file(\"server_outputPartD2.txt\")\n",
        "\n",
        "# Calculate rejection ratios\n",
        "rejection_ratio_1 = rejections_1 / total_requests_1\n",
        "rejection_ratio_2 = rejections_2 / total_requests_2\n",
        "\n",
        "print(f\"Rejection ratio with 1 worker: {rejection_ratio_1:.2f}\")\n",
        "print(f\"Rejection ratio with 2 workers: {rejection_ratio_2:.2f}\")\n",
        "\n",
        "# Plotting for the first file\n",
        "plt.figure(figsize=(10, 6))\n",
        "plt.hist(inter_rejection_times_1, bins=30, edgecolor='k', alpha=0.7, label=\"1 Worker\")\n",
        "plt.hist(inter_rejection_times_2, bins=30, edgecolor='k', alpha=0.5, label=\"2 Workers\")\n",
        "plt.title('Distribution of Inter-Rejection Times')\n",
        "plt.xlabel('Inter-Rejection Time')\n",
        "plt.ylabel('Frequency')\n",
        "plt.legend()\n",
        "plt.grid(True)\n",
        "plt.show()\n"
      ],
      "metadata": {
        "colab": {
          "base_uri": "https://localhost:8080/",
          "height": 600
        },
        "id": "uoHNO8KLe5gF",
        "outputId": "0878c354-e521-4e42-e209-715fd069fdbe"
      },
      "execution_count": 4,
      "outputs": [
        {
          "output_type": "stream",
          "name": "stdout",
          "text": [
            "Rejection ratio with 1 worker: 0.03\n",
            "Rejection ratio with 2 workers: 0.00\n"
          ]
        },
        {
          "output_type": "display_data",
          "data": {
            "text/plain": [
              "<Figure size 1000x600 with 1 Axes>"
            ],
            "image/png": "[encoded data removed]"
          },
          "metadata": {}
        }
      ]
    }
  ]
}